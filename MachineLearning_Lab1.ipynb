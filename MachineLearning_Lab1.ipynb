{
  "nbformat": 4,
  "nbformat_minor": 0,
  "metadata": {
    "colab": {
      "provenance": [],
      "authorship_tag": "ABX9TyPiEQzN2PBwr/yxr/EB0h1R",
      "include_colab_link": true
    },
    "kernelspec": {
      "name": "python3",
      "display_name": "Python 3"
    },
    "language_info": {
      "name": "python"
    }
  },
  "cells": [
    {
      "cell_type": "markdown",
      "metadata": {
        "id": "view-in-github",
        "colab_type": "text"
      },
      "source": [
        "<a href=\"https://colab.research.google.com/github/BendaSiriRaj/MachineLearningLab/blob/main/MachineLearning_Lab1.ipynb\" target=\"_parent\"><img src=\"https://colab.research.google.com/assets/colab-badge.svg\" alt=\"Open In Colab\"/></a>"
      ]
    },
    {
      "cell_type": "code",
      "execution_count": null,
      "metadata": {
        "colab": {
          "base_uri": "https://localhost:8080/"
        },
        "id": "c0LeQaxU7f1B",
        "outputId": "71a8f34c-eabb-4356-b144-aafc9c7af1f7"
      },
      "outputs": [
        {
          "output_type": "stream",
          "name": "stdout",
          "text": [
            "   ID    Name  Age\n",
            "0   2  Sutton   25\n",
            "1   3  Taneli   30\n"
          ]
        }
      ],
      "source": [
        "import pandas as pd\n",
        "df1=pd.DataFrame({'ID':[1,2,3],'Name':['Teodosija','Sutton','Taneli']})\n",
        "df2=pd.DataFrame({'ID':[2,3,4],'Age':[25,30,22]})\n",
        "merged_df=pd.merge(df1,df2,on='ID')\n",
        "print(merged_df)"
      ]
    },
    {
      "cell_type": "code",
      "source": [
        "data={'Name':['Teodosija','Sutton','Taneli','Ravshan','Ross','Alice','Bob','Charlie','David','Emily'],'Age':[26,32,25,31,28,22,35,30,40,28],'Salary':[50000,60000,45000,70000,55000,60000,70000,55000,75000,65000]}\n",
        "df=pd.DataFrame(data)\n",
        "filtered_rows=df[df['Age']>30]\n",
        "print(filtered_rows)"
      ],
      "metadata": {
        "colab": {
          "base_uri": "https://localhost:8080/"
        },
        "id": "DNW4tXFn8ZKW",
        "outputId": "d595cf69-2766-4d9c-d9a8-8ec180d2e0a0"
      },
      "execution_count": null,
      "outputs": [
        {
          "output_type": "stream",
          "name": "stdout",
          "text": [
            "      Name  Age  Salary\n",
            "1   Sutton   32   60000\n",
            "3  Ravshan   31   70000\n",
            "6      Bob   35   70000\n",
            "8    David   40   75000\n"
          ]
        }
      ]
    },
    {
      "cell_type": "code",
      "source": [
        "import numpy as np\n",
        "data={'Name':['Teodosija','Sutton','Taneli','David','Ross'],'Age':[25,30,22,35,28],'Salary':[50000,60000,45000,70000,55000]}\n",
        "df=pd.DataFrame(data)\n",
        "numpy_array=np.array([1000,2000,3000,4000,5000])\n",
        "df['Updated_Salary']=np.add(df['Salary'],numpy_array)\n",
        "print(df)"
      ],
      "metadata": {
        "colab": {
          "base_uri": "https://localhost:8080/"
        },
        "id": "noIriAmzBeX_",
        "outputId": "1d8cc4df-4547-4672-d1d1-e8672451980e"
      },
      "execution_count": null,
      "outputs": [
        {
          "output_type": "stream",
          "name": "stdout",
          "text": [
            "        Name  Age  Salary  Updated_Salary\n",
            "0  Teodosija   25   50000           51000\n",
            "1     Sutton   30   60000           62000\n",
            "2     Taneli   22   45000           48000\n",
            "3      David   35   70000           74000\n",
            "4       Ross   28   55000           60000\n"
          ]
        }
      ]
    },
    {
      "cell_type": "code",
      "source": [
        "data={'Age':[25,30,22,35,28],'Salary':[50000,60000,45000,70000,55000],'Experience':[2,5,1,8,4]}\n",
        "df=pd.DataFrame(data)\n",
        "correlation_matrix=df.corr()\n",
        "print(correlation_matrix)"
      ],
      "metadata": {
        "colab": {
          "base_uri": "https://localhost:8080/"
        },
        "id": "hSra1N3uC0hJ",
        "outputId": "52b9af05-457f-4d79-8158-c10d05505676"
      },
      "execution_count": null,
      "outputs": [
        {
          "output_type": "stream",
          "name": "stdout",
          "text": [
            "                 Age    Salary  Experience\n",
            "Age         1.000000  0.997791    0.995910\n",
            "Salary      0.997791  1.000000    0.996616\n",
            "Experience  0.995910  0.996616    1.000000\n"
          ]
        }
      ]
    },
    {
      "cell_type": "code",
      "source": [
        "import matplotlib.pyplot as plt\n",
        "data=np.random.randn(1000)\n",
        "hist, edges=np.histogram(data,bins=10)\n",
        "plt.hist(data, bins=edges, edgecolor='black', alpha=0.7)\n",
        "plt.title('Histogram of a numerical column')\n",
        "plt.xlabel('Values')\n",
        "plt.ylabel('Frequency')\n",
        "plt.show()"
      ],
      "metadata": {
        "colab": {
          "base_uri": "https://localhost:8080/",
          "height": 472
        },
        "id": "pRlYbfFPDXkO",
        "outputId": "28d30ae4-f227-4193-84a3-7670ee9d08e0"
      },
      "execution_count": null,
      "outputs": [
        {
          "output_type": "display_data",
          "data": {
            "text/plain": [
              "<Figure size 640x480 with 1 Axes>"
            ],
            "image/png": "[encoded data removed]"
          },
          "metadata": {}
        }
      ]
    },
    {
      "cell_type": "code",
      "source": [],
      "metadata": {
        "id": "OEuBqdClD1oA"
      },
      "execution_count": null,
      "outputs": []
    }
  ]
}